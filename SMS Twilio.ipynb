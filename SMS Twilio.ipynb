{
 "cells": [
  {
   "cell_type": "markdown",
   "id": "e9fc3a39",
   "metadata": {},
   "source": [
    "# 💬 SMS Emergencial (Twilio API) "
   ]
  },
  {
   "cell_type": "code",
   "execution_count": 33,
   "id": "d7025db9",
   "metadata": {},
   "outputs": [],
   "source": [
    "import os"
   ]
  },
  {
   "cell_type": "code",
   "execution_count": 34,
   "id": "8b21c7e8",
   "metadata": {},
   "outputs": [],
   "source": [
    "from twilio.rest import Client"
   ]
  },
  {
   "cell_type": "code",
   "execution_count": 35,
   "id": "2adc600f",
   "metadata": {},
   "outputs": [],
   "source": [
    "#SID da conta e token de autenticação da API\n",
    "\n",
    "account_sid = \"AC1335462d196114ea7df5e2529ab2be07\"\n",
    "auth_token = \"50c4e8304b2dbe66caf5c1fe83486485\"\n",
    "client = Client(account_sid, auth_token)"
   ]
  },
  {
   "cell_type": "code",
   "execution_count": 42,
   "id": "8542ccba",
   "metadata": {},
   "outputs": [],
   "source": [
    "message = 'EVACUAÇÃO URGENTE!- Risco de deslizamento em sua área. Por favor, deixe sua casa imediatamente. Siga as instruções das autoridades locais e não tente retornar até que tudo esteja liberado. Fique seguro!'"
   ]
  },
  {
   "cell_type": "code",
   "execution_count": 44,
   "id": "8d1c5d87",
   "metadata": {},
   "outputs": [
    {
     "name": "stdout",
     "output_type": "stream",
     "text": [
      "SMef5147a2e9b6835898e4fb4d5fb8d4de\n"
     ]
    }
   ],
   "source": [
    "message = client.messages.create(\n",
    "    body=message,\n",
    "    from_='+12056516179',\n",
    "    to=['+5511999771172', '+5511973530612', '+5511983563606', '+5511982163303']\n",
    ")\n",
    "print(message.sid)"
   ]
  },
  {
   "cell_type": "code",
   "execution_count": null,
   "id": "f74044f7",
   "metadata": {},
   "outputs": [],
   "source": []
  }
 ],
 "metadata": {
  "kernelspec": {
   "display_name": "Python 3 (ipykernel)",
   "language": "python",
   "name": "python3"
  },
  "language_info": {
   "codemirror_mode": {
    "name": "ipython",
    "version": 3
   },
   "file_extension": ".py",
   "mimetype": "text/x-python",
   "name": "python",
   "nbconvert_exporter": "python",
   "pygments_lexer": "ipython3",
   "version": "3.9.13"
  }
 },
 "nbformat": 4,
 "nbformat_minor": 5
}
